{
 "cells": [
  {
   "cell_type": "code",
   "execution_count": 47,
   "metadata": {},
   "outputs": [],
   "source": [
    "import numpy as np\n",
    "\n",
    "def xyz2uvd(pts, paras, flip=1):\n",
    "    # paras: [fx, fy, fu, fv]\n",
    "    pts_uvd = pts.copy()\n",
    "    pts_uvd = pts_uvd.reshape(-1, 3)\n",
    "    pts_uvd[:, 1] *= flip\n",
    "    pts_uvd[:, :2] = pts_uvd[:, :2] * paras[:2] / pts_uvd[:, 2:] + paras[2:]\n",
    "\n",
    "    return pts_uvd.reshape(pts.shape).astype(np.float32)\n",
    "\n",
    "\n",
    "def uvd2xyz(pts, paras, flip=1):\n",
    "    # paras: (fx, fy, fu, fv)\n",
    "    pts_xyz = pts.copy()\n",
    "    pts_xyz = pts_xyz.reshape(-1, 3)\n",
    "    pts_xyz[:, :2] = (pts_xyz[:, :2] - paras[2:]) * pts_xyz[:, 2:] / paras[:2]\n",
    "    pts_xyz[:, 1] *= flip\n",
    "\n",
    "    return pts_xyz.reshape(pts.shape).astype(np.float32)\n"
   ]
  },
  {
   "cell_type": "code",
   "execution_count": null,
   "metadata": {},
   "outputs": [],
   "source": []
  },
  {
   "cell_type": "code",
   "execution_count": 8,
   "metadata": {},
   "outputs": [
    {
     "ename": "NameError",
     "evalue": "name 'np' is not defined",
     "output_type": "error",
     "traceback": [
      "\u001b[1;31m---------------------------------------------------------------------------\u001b[0m",
      "\u001b[1;31mNameError\u001b[0m                                 Traceback (most recent call last)",
      "Input \u001b[1;32mIn [8]\u001b[0m, in \u001b[0;36m<module>\u001b[1;34m\u001b[0m\n\u001b[1;32m----> 1\u001b[0m center_xyz \u001b[38;5;241m=\u001b[39m \u001b[43mnp\u001b[49m\u001b[38;5;241m.\u001b[39mloadtxt(\u001b[38;5;124m'\u001b[39m\u001b[38;5;124m./images/nyu/center_test_refined.txt\u001b[39m\u001b[38;5;124m'\u001b[39m)\n\u001b[0;32m      2\u001b[0m center_xyz\n",
      "\u001b[1;31mNameError\u001b[0m: name 'np' is not defined"
     ]
    }
   ],
   "source": [
    "center_xyz = np.loadtxt('./images/nyu/center_test_refined.txt')\n",
    "center_xyz"
   ]
  },
  {
   "cell_type": "code",
   "execution_count": 4,
   "metadata": {},
   "outputs": [
    {
     "data": {
      "text/plain": [
       "(8252, 3)"
      ]
     },
     "execution_count": 4,
     "metadata": {},
     "output_type": "execute_result"
    }
   ],
   "source": [
    "center_xyz.shape"
   ]
  },
  {
   "cell_type": "code",
   "execution_count": 12,
   "metadata": {},
   "outputs": [
    {
     "data": {
      "text/plain": [
       "(8252, 3)"
      ]
     },
     "execution_count": 12,
     "metadata": {},
     "output_type": "execute_result"
    }
   ],
   "source": [
    "reshaped = center_xyz.reshape(-1, 3)\n",
    "reshaped.shape"
   ]
  },
  {
   "cell_type": "code",
   "execution_count": 14,
   "metadata": {},
   "outputs": [
    {
     "data": {
      "text/plain": [
       "array([[0, 0, 0],\n",
       "       [1, 1, 1]])"
      ]
     },
     "execution_count": 14,
     "metadata": {},
     "output_type": "execute_result"
    }
   ],
   "source": [
    "pts.reshape(-1, 3)"
   ]
  },
  {
   "cell_type": "code",
   "execution_count": 20,
   "metadata": {},
   "outputs": [
    {
     "name": "stdout",
     "output_type": "stream",
     "text": [
      "[[-133.28715515  -12.86797142  761.99810791]\n",
      " [-134.04685974  -13.17334747  764.24127197]\n",
      " [-134.10357666  -13.0756321   764.19580078]\n",
      " ...\n",
      " [ -11.20250702 -248.05474854  978.31573486]\n",
      " [ -11.18813324 -248.47120667  979.79846191]\n",
      " [ -11.30259991 -248.34965515  978.96453857]]\n"
     ]
    }
   ],
   "source": [
    "pts = np.array([\n",
    "  [0, 0, 0],\n",
    "  [1, 1, 1]\n",
    "])\n",
    "\n",
    "paras = (588.03, 587.07, 320., 240.)\n",
    "\n",
    "uvd = xyz2uvd(center_xyz, paras)"
   ]
  },
  {
   "cell_type": "code",
   "execution_count": 23,
   "metadata": {},
   "outputs": [
    {
     "data": {
      "text/plain": [
       "array([[217.14299, 230.08606, 761.9981 ],\n",
       "       [216.86035, 229.88058, 764.2413 ],\n",
       "       [216.81058, 229.95505, 764.1958 ],\n",
       "       ...,\n",
       "       [313.26657,  91.14673, 978.31573],\n",
       "       [313.2854 ,  91.12245, 979.79846],\n",
       "       [313.2109 ,  91.06853, 978.96454]], dtype=float32)"
      ]
     },
     "execution_count": 23,
     "metadata": {},
     "output_type": "execute_result"
    }
   ],
   "source": [
    "uvd"
   ]
  },
  {
   "cell_type": "code",
   "execution_count": 26,
   "metadata": {},
   "outputs": [
    {
     "data": {
      "text/plain": [
       "435.37183"
      ]
     },
     "execution_count": 26,
     "metadata": {},
     "output_type": "execute_result"
    }
   ],
   "source": [
    "uvd[:,0].max()"
   ]
  },
  {
   "cell_type": "code",
   "execution_count": 27,
   "metadata": {},
   "outputs": [
    {
     "data": {
      "text/plain": [
       "325.8304"
      ]
     },
     "execution_count": 27,
     "metadata": {},
     "output_type": "execute_result"
    }
   ],
   "source": [
    "uvd[:,1].max()"
   ]
  },
  {
   "cell_type": "code",
   "execution_count": null,
   "metadata": {},
   "outputs": [],
   "source": []
  },
  {
   "cell_type": "code",
   "execution_count": 1,
   "metadata": {},
   "outputs": [
    {
     "ename": "NameError",
     "evalue": "name 'pts' is not defined",
     "output_type": "error",
     "traceback": [
      "\u001b[1;31m---------------------------------------------------------------------------\u001b[0m",
      "\u001b[1;31mNameError\u001b[0m                                 Traceback (most recent call last)",
      "Input \u001b[1;32mIn [1]\u001b[0m, in \u001b[0;36m<module>\u001b[1;34m\u001b[0m\n\u001b[1;32m----> 1\u001b[0m \u001b[43mpts\u001b[49m\u001b[38;5;241m.\u001b[39mshape\n",
      "\u001b[1;31mNameError\u001b[0m: name 'pts' is not defined"
     ]
    }
   ],
   "source": [
    "pts.shape"
   ]
  },
  {
   "cell_type": "code",
   "execution_count": 5,
   "metadata": {},
   "outputs": [
    {
     "name": "stdout",
     "output_type": "stream",
     "text": [
      "[[[1 2]\n",
      "  [1 2]\n",
      "  [1 2]]]\n"
     ]
    },
    {
     "data": {
      "text/plain": [
       "(1, 3, 2)"
      ]
     },
     "execution_count": 5,
     "metadata": {},
     "output_type": "execute_result"
    }
   ],
   "source": [
    "import numpy as np\n",
    "\n",
    "a = np.array([\n",
    "  [1, 1, 1]\n",
    "])\n",
    "\n",
    "b = np.array([\n",
    "  [2, 2, 2]\n",
    "])\n",
    "\n",
    "stack = np.dstack((a,b))\n",
    "\n",
    "print(stack)\n",
    "stack.shape"
   ]
  },
  {
   "cell_type": "code",
   "execution_count": 19,
   "metadata": {},
   "outputs": [
    {
     "data": {
      "text/plain": [
       "array([[7, 7, 7, ..., 7, 7, 7],\n",
       "       [7, 7, 7, ..., 7, 7, 7],\n",
       "       [7, 7, 7, ..., 7, 7, 7],\n",
       "       ...,\n",
       "       [7, 7, 7, ..., 7, 7, 7],\n",
       "       [7, 7, 7, ..., 7, 7, 7],\n",
       "       [7, 7, 7, ..., 7, 7, 7]], dtype=uint8)"
      ]
     },
     "execution_count": 19,
     "metadata": {},
     "output_type": "execute_result"
    }
   ],
   "source": [
    "import cv2\n",
    "\n",
    "img = cv2.imread('../images/nyu/depth_1_0000001.png')\n",
    "img[:,:,0] \n",
    "img[:,:,1]"
   ]
  },
  {
   "cell_type": "code",
   "execution_count": 43,
   "metadata": {},
   "outputs": [],
   "source": [
    "depth = np.asarray(img[:,:,0] + img[:,:,1] * 256, dtype=np.float32)"
   ]
  },
  {
   "cell_type": "code",
   "execution_count": 45,
   "metadata": {},
   "outputs": [
    {
     "data": {
      "text/plain": [
       "(480, 640)"
      ]
     },
     "execution_count": 45,
     "metadata": {},
     "output_type": "execute_result"
    }
   ],
   "source": [
    "depth.shape"
   ]
  },
  {
   "cell_type": "code",
   "execution_count": 46,
   "metadata": {},
   "outputs": [
    {
     "data": {
      "text/plain": [
       "1020.0"
      ]
     },
     "execution_count": 46,
     "metadata": {},
     "output_type": "execute_result"
    }
   ],
   "source": [
    "depth[240][320]"
   ]
  },
  {
   "cell_type": "code",
   "execution_count": 57,
   "metadata": {},
   "outputs": [
    {
     "data": {
      "text/plain": [
       "array([217.14299, 249.91394, 761.9981 ], dtype=float32)"
      ]
     },
     "execution_count": 57,
     "metadata": {},
     "output_type": "execute_result"
    }
   ],
   "source": [
    "paras = (588.03, 587.07, 320., 240.)\n",
    "center = np.array([-133.28715515137, -12.867971420288, 761.99810791016])\n",
    "uvd = xyz2uvd(center, paras, flip=-1)\n",
    "uvd"
   ]
  },
  {
   "cell_type": "code",
   "execution_count": 58,
   "metadata": {},
   "outputs": [
    {
     "data": {
      "text/plain": [
       "761.0"
      ]
     },
     "execution_count": 58,
     "metadata": {},
     "output_type": "execute_result"
    }
   ],
   "source": [
    "depth[217][250]"
   ]
  },
  {
   "cell_type": "code",
   "execution_count": 38,
   "metadata": {},
   "outputs": [],
   "source": [
    "import numpy as np\n",
    "a = np.array([\n",
    "  [\n",
    "    [1,5,1],\n",
    "    [2,6,2]\n",
    "  ],\n",
    "  [\n",
    "    [3,7,3],\n",
    "    [4,8,4]\n",
    "  ],\n",
    "])"
   ]
  },
  {
   "cell_type": "code",
   "execution_count": 39,
   "metadata": {},
   "outputs": [
    {
     "data": {
      "text/plain": [
       "(2, 2, 3)"
      ]
     },
     "execution_count": 39,
     "metadata": {},
     "output_type": "execute_result"
    }
   ],
   "source": [
    "a.shape"
   ]
  },
  {
   "cell_type": "code",
   "execution_count": 40,
   "metadata": {},
   "outputs": [
    {
     "data": {
      "text/plain": [
       "array([[1, 2],\n",
       "       [3, 4]])"
      ]
     },
     "execution_count": 40,
     "metadata": {},
     "output_type": "execute_result"
    }
   ],
   "source": [
    "a[:,:,0]"
   ]
  },
  {
   "cell_type": "code",
   "execution_count": 41,
   "metadata": {},
   "outputs": [
    {
     "data": {
      "text/plain": [
       "array([[5, 6],\n",
       "       [7, 8]])"
      ]
     },
     "execution_count": 41,
     "metadata": {},
     "output_type": "execute_result"
    }
   ],
   "source": [
    "a[:,:,1]"
   ]
  },
  {
   "cell_type": "code",
   "execution_count": 1,
   "metadata": {},
   "outputs": [
    {
     "name": "stdout",
     "output_type": "stream",
     "text": [
      "(array([0, 0, 1, 1, 2, 2], dtype=int64), array([0, 1, 0, 1, 0, 1], dtype=int64))\n",
      "(array([0, 0, 1, 1, 2, 2], dtype=int64), array([0, 1, 0, 1, 0, 1], dtype=int64))\n"
     ]
    }
   ],
   "source": [
    "import numpy as np\n",
    "\n",
    "mat = np.array([\n",
    "  [1, 2],\n",
    "  [3, 4],\n",
    "  [1, 1]\n",
    "])\n",
    "\n",
    "print(np.asarray(mat < 5).nonzero())\n",
    "print(np.where(mat < 5))"
   ]
  },
  {
   "cell_type": "markdown",
   "metadata": {},
   "source": [
    "# Leitura do arquivo de profundidade"
   ]
  },
  {
   "cell_type": "code",
   "execution_count": 1,
   "metadata": {},
   "outputs": [],
   "source": [
    "import numpy as np\n",
    "import cv2\n",
    "\n",
    "depth = np.loadtxt('../images/dataset/frame_0.txt')\n",
    "#depth = np.flip(depth, 1)\n",
    "\n",
    "depth_colormap = cv2.applyColorMap(cv2.convertScaleAbs(depth, alpha=0.03), cv2.COLORMAP_JET)\n",
    "# depth_colormap = cv2.circle(depth_colormap, center=(320, 240), radius=2, color=(0, 0, 255), thickness=-1)\n",
    "\n",
    "window = 'frame_0.txt'\n",
    "cv2.namedWindow(window, cv2.WINDOW_NORMAL)\n",
    "cv2.resizeWindow(window, 640, 480)\n",
    "cv2.imshow(window, depth_colormap)\n",
    "cv2.waitKey(0)\n",
    "cv2.destroyWindow(window)"
   ]
  },
  {
   "cell_type": "code",
   "execution_count": 1,
   "metadata": {},
   "outputs": [
    {
     "name": "stdout",
     "output_type": "stream",
     "text": [
      "(8252, 14, 3)\n"
     ]
    },
    {
     "data": {
      "text/html": [
       "<div>\n",
       "<style scoped>\n",
       "    .dataframe tbody tr th:only-of-type {\n",
       "        vertical-align: middle;\n",
       "    }\n",
       "\n",
       "    .dataframe tbody tr th {\n",
       "        vertical-align: top;\n",
       "    }\n",
       "\n",
       "    .dataframe thead th {\n",
       "        text-align: right;\n",
       "    }\n",
       "</style>\n",
       "<table border=\"1\" class=\"dataframe\">\n",
       "  <thead>\n",
       "    <tr style=\"text-align: right;\">\n",
       "      <th></th>\n",
       "      <th>0</th>\n",
       "      <th>1</th>\n",
       "      <th>2</th>\n",
       "    </tr>\n",
       "  </thead>\n",
       "  <tbody>\n",
       "    <tr>\n",
       "      <th>0</th>\n",
       "      <td>-188.824909</td>\n",
       "      <td>50.629728</td>\n",
       "      <td>736.416931</td>\n",
       "    </tr>\n",
       "    <tr>\n",
       "      <th>1</th>\n",
       "      <td>-189.305410</td>\n",
       "      <td>38.555110</td>\n",
       "      <td>740.832214</td>\n",
       "    </tr>\n",
       "    <tr>\n",
       "      <th>2</th>\n",
       "      <td>-186.502626</td>\n",
       "      <td>10.955609</td>\n",
       "      <td>753.060669</td>\n",
       "    </tr>\n",
       "    <tr>\n",
       "      <th>3</th>\n",
       "      <td>-184.908021</td>\n",
       "      <td>-20.596404</td>\n",
       "      <td>757.472473</td>\n",
       "    </tr>\n",
       "    <tr>\n",
       "      <th>4</th>\n",
       "      <td>-148.378679</td>\n",
       "      <td>77.794493</td>\n",
       "      <td>738.588806</td>\n",
       "    </tr>\n",
       "    <tr>\n",
       "      <th>5</th>\n",
       "      <td>-154.200736</td>\n",
       "      <td>64.770209</td>\n",
       "      <td>747.301086</td>\n",
       "    </tr>\n",
       "    <tr>\n",
       "      <th>6</th>\n",
       "      <td>-157.511797</td>\n",
       "      <td>31.581621</td>\n",
       "      <td>754.288086</td>\n",
       "    </tr>\n",
       "    <tr>\n",
       "      <th>7</th>\n",
       "      <td>-154.331265</td>\n",
       "      <td>-4.553034</td>\n",
       "      <td>764.863525</td>\n",
       "    </tr>\n",
       "    <tr>\n",
       "      <th>8</th>\n",
       "      <td>-121.657783</td>\n",
       "      <td>92.376306</td>\n",
       "      <td>744.247681</td>\n",
       "    </tr>\n",
       "    <tr>\n",
       "      <th>9</th>\n",
       "      <td>-126.335900</td>\n",
       "      <td>75.186167</td>\n",
       "      <td>751.208008</td>\n",
       "    </tr>\n",
       "    <tr>\n",
       "      <th>10</th>\n",
       "      <td>-134.336691</td>\n",
       "      <td>40.983979</td>\n",
       "      <td>765.761597</td>\n",
       "    </tr>\n",
       "    <tr>\n",
       "      <th>11</th>\n",
       "      <td>-135.478511</td>\n",
       "      <td>-11.114006</td>\n",
       "      <td>771.567200</td>\n",
       "    </tr>\n",
       "    <tr>\n",
       "      <th>12</th>\n",
       "      <td>-88.144698</td>\n",
       "      <td>75.839811</td>\n",
       "      <td>755.201233</td>\n",
       "    </tr>\n",
       "    <tr>\n",
       "      <th>13</th>\n",
       "      <td>-92.320276</td>\n",
       "      <td>62.116606</td>\n",
       "      <td>757.073547</td>\n",
       "    </tr>\n",
       "    <tr>\n",
       "      <th>14</th>\n",
       "      <td>-102.439348</td>\n",
       "      <td>28.063943</td>\n",
       "      <td>767.165894</td>\n",
       "    </tr>\n",
       "    <tr>\n",
       "      <th>15</th>\n",
       "      <td>-113.000627</td>\n",
       "      <td>-25.154679</td>\n",
       "      <td>776.809875</td>\n",
       "    </tr>\n",
       "    <tr>\n",
       "      <th>16</th>\n",
       "      <td>-76.226759</td>\n",
       "      <td>-11.282525</td>\n",
       "      <td>744.346252</td>\n",
       "    </tr>\n",
       "    <tr>\n",
       "      <th>17</th>\n",
       "      <td>-78.791528</td>\n",
       "      <td>-33.338390</td>\n",
       "      <td>755.060181</td>\n",
       "    </tr>\n",
       "    <tr>\n",
       "      <th>18</th>\n",
       "      <td>-91.375190</td>\n",
       "      <td>-75.941215</td>\n",
       "      <td>770.414368</td>\n",
       "    </tr>\n",
       "    <tr>\n",
       "      <th>19</th>\n",
       "      <td>-113.377395</td>\n",
       "      <td>-90.539317</td>\n",
       "      <td>768.321289</td>\n",
       "    </tr>\n",
       "    <tr>\n",
       "      <th>20</th>\n",
       "      <td>-145.303485</td>\n",
       "      <td>-37.921357</td>\n",
       "      <td>778.299072</td>\n",
       "    </tr>\n",
       "    <tr>\n",
       "      <th>21</th>\n",
       "      <td>-182.923020</td>\n",
       "      <td>-109.209313</td>\n",
       "      <td>788.841370</td>\n",
       "    </tr>\n",
       "    <tr>\n",
       "      <th>22</th>\n",
       "      <td>-149.024451</td>\n",
       "      <td>-117.584743</td>\n",
       "      <td>794.199951</td>\n",
       "    </tr>\n",
       "  </tbody>\n",
       "</table>\n",
       "</div>"
      ],
      "text/plain": [
       "             0           1           2\n",
       "0  -188.824909   50.629728  736.416931\n",
       "1  -189.305410   38.555110  740.832214\n",
       "2  -186.502626   10.955609  753.060669\n",
       "3  -184.908021  -20.596404  757.472473\n",
       "4  -148.378679   77.794493  738.588806\n",
       "5  -154.200736   64.770209  747.301086\n",
       "6  -157.511797   31.581621  754.288086\n",
       "7  -154.331265   -4.553034  764.863525\n",
       "8  -121.657783   92.376306  744.247681\n",
       "9  -126.335900   75.186167  751.208008\n",
       "10 -134.336691   40.983979  765.761597\n",
       "11 -135.478511  -11.114006  771.567200\n",
       "12  -88.144698   75.839811  755.201233\n",
       "13  -92.320276   62.116606  757.073547\n",
       "14 -102.439348   28.063943  767.165894\n",
       "15 -113.000627  -25.154679  776.809875\n",
       "16  -76.226759  -11.282525  744.346252\n",
       "17  -78.791528  -33.338390  755.060181\n",
       "18  -91.375190  -75.941215  770.414368\n",
       "19 -113.377395  -90.539317  768.321289\n",
       "20 -145.303485  -37.921357  778.299072\n",
       "21 -182.923020 -109.209313  788.841370\n",
       "22 -149.024451 -117.584743  794.199951"
      ]
     },
     "execution_count": 1,
     "metadata": {},
     "output_type": "execute_result"
    }
   ],
   "source": [
    "import scipy.io\n",
    "import pandas as pd\n",
    "import numpy as np\n",
    "\n",
    "JOINT = np.array([0,1,3,5,   6,7,9,11,  12,13,15,17,  18,19,21,23,  24,25,27,28,  32,30,31])\n",
    "# select 14 joints for evaluation \n",
    "EVAL = np.array([0, 2, 4, 6, 8, 10, 12, 14, 16, 17, 18, 21, 22, 20])\n",
    "\n",
    "file = scipy.io.loadmat('./joint_data.mat')\n",
    "print(file['joint_xyz'][0][:, JOINT, :][:, EVAL, :].shape)\n",
    "\n",
    "pd.DataFrame(file['joint_xyz'][0][0][JOINT, :])"
   ]
  },
  {
   "cell_type": "code",
   "execution_count": 6,
   "metadata": {},
   "outputs": [
    {
     "data": {
      "text/plain": [
       "36"
      ]
     },
     "execution_count": 6,
     "metadata": {},
     "output_type": "execute_result"
    }
   ],
   "source": [
    "len(file['joint_names'][0])"
   ]
  },
  {
   "cell_type": "code",
   "execution_count": 2,
   "metadata": {},
   "outputs": [
    {
     "ename": "KeyError",
     "evalue": "0",
     "output_type": "error",
     "traceback": [
      "\u001b[1;31m---------------------------------------------------------------------------\u001b[0m",
      "\u001b[1;31mKeyError\u001b[0m                                  Traceback (most recent call last)",
      "\u001b[1;32mc:\\Mestrado\\codigo-mestrado\\study\\exploring-algorithms.ipynb Cell 28'\u001b[0m in \u001b[0;36m<module>\u001b[1;34m\u001b[0m\n\u001b[1;32m----> <a href='vscode-notebook-cell:/c%3A/Mestrado/codigo-mestrado/study/exploring-algorithms.ipynb#ch0000027?line=0'>1</a>\u001b[0m \u001b[39mfor\u001b[39;00m joint \u001b[39min\u001b[39;00m file[\u001b[39m0\u001b[39;49m]:\n\u001b[0;32m      <a href='vscode-notebook-cell:/c%3A/Mestrado/codigo-mestrado/study/exploring-algorithms.ipynb#ch0000027?line=1'>2</a>\u001b[0m   \u001b[39mprint\u001b[39m(joint)\n",
      "\u001b[1;31mKeyError\u001b[0m: 0"
     ]
    }
   ],
   "source": [
    "for joint in file[0]:\n",
    "  print(joint)"
   ]
  },
  {
   "cell_type": "code",
   "execution_count": 2,
   "metadata": {},
   "outputs": [],
   "source": [
    "import cv2\n",
    "import math\n",
    "import numpy as np\n",
    "\n",
    "arr = np.array([\n",
    "  169.535, 198.560, 741.576, \n",
    "  174.423, 231.732, 755.056, \n",
    "  202.294, 176.895, 744.027, \n",
    "  197.102, 215.997, 761.166, \n",
    "  223.930, 168.535, 746.790, \n",
    "  218.078, 211.090, 767.988, \n",
    "  248.548, 182.348, 754.467, \n",
    "  240.733, 220.637, 769.496, \n",
    "  258.816, 250.902, 747.977, \n",
    "  257.265, 268.102, 757.435, \n",
    "  247.980, 298.555, 771.993, \n",
    "  185.604, 323.054, 794.190, \n",
    "  211.418, 328.315, 798.303, \n",
    "  210.071, 270.760, 778.371\n",
    "])\n",
    "\n",
    "joints = np.reshape(arr, (14,3))\n",
    "\n",
    "# depth = np.loadtxt('../images/dataset/frame_0.txt')\n",
    "img = cv2.imread('../images/nyu/depth_1_0000001.png')\n",
    "\n",
    "# depth_colormap = cv2.applyColorMap(cv2.convertScaleAbs(depth, alpha=0.03), cv2.COLORMAP_JET)\n",
    "\n",
    "for joint in joints: \n",
    "  x, y, z = joint\n",
    "  center_x = math.ceil(x)\n",
    "  center_y = math.ceil(y)\n",
    "  img = cv2.circle(img, center=(center_x, center_y), radius=2, color=(0, 0, 255), thickness=-1)\n",
    "\n",
    "window = 'Depth'\n",
    "cv2.namedWindow(window, cv2.WINDOW_NORMAL)\n",
    "cv2.resizeWindow(window, 640, 480)\n",
    "cv2.imshow(window, img)\n",
    "cv2.waitKey(0)\n",
    "cv2.destroyWindow(window)"
   ]
  },
  {
   "cell_type": "markdown",
   "metadata": {},
   "source": [
    "# Projetando pontos na imagem"
   ]
  },
  {
   "cell_type": "code",
   "execution_count": 19,
   "metadata": {},
   "outputs": [
    {
     "ename": "KeyboardInterrupt",
     "evalue": "",
     "output_type": "error",
     "traceback": [
      "\u001b[1;31m---------------------------------------------------------------------------\u001b[0m",
      "\u001b[1;31mKeyboardInterrupt\u001b[0m                         Traceback (most recent call last)",
      "\u001b[1;32mc:\\Mestrado\\codigo-mestrado\\study\\exploring-algorithms.ipynb Cell 32'\u001b[0m in \u001b[0;36m<module>\u001b[1;34m\u001b[0m\n\u001b[0;32m     <a href='vscode-notebook-cell:/c%3A/Mestrado/codigo-mestrado/study/exploring-algorithms.ipynb#ch0000030?line=35'>36</a>\u001b[0m cv2\u001b[39m.\u001b[39mresizeWindow(window, \u001b[39m640\u001b[39m, \u001b[39m480\u001b[39m)\n\u001b[0;32m     <a href='vscode-notebook-cell:/c%3A/Mestrado/codigo-mestrado/study/exploring-algorithms.ipynb#ch0000030?line=36'>37</a>\u001b[0m cv2\u001b[39m.\u001b[39mimshow(window, img)\n\u001b[1;32m---> <a href='vscode-notebook-cell:/c%3A/Mestrado/codigo-mestrado/study/exploring-algorithms.ipynb#ch0000030?line=37'>38</a>\u001b[0m cv2\u001b[39m.\u001b[39;49mwaitKey(\u001b[39m0\u001b[39;49m)\n\u001b[0;32m     <a href='vscode-notebook-cell:/c%3A/Mestrado/codigo-mestrado/study/exploring-algorithms.ipynb#ch0000030?line=38'>39</a>\u001b[0m cv2\u001b[39m.\u001b[39mdestroyWindow(window)\n",
      "\u001b[1;31mKeyboardInterrupt\u001b[0m: "
     ]
    }
   ],
   "source": [
    "import cv2\n",
    "import math\n",
    "import numpy as np\n",
    "\n",
    "arr = np.array([\n",
    "  [147.084, 177.480, 345.507, 186.284, 233.123, 359.941, 237.917, 112.133, 337.274, 238.048, 183.462, 358.916, 315.858, 91.886, 344.020, 296.672, 173.691, 360.330, 387.407, 121.559, 344.045, 349.883, 190.100, 360.790, 442.477, 278.589, 360.966, 411.096, 295.258, 365.675, 354.293, 342.267, 374.823, 251.357, 351.934, 412.018, 290.668, 362.145, 414.212, 282.046, 277.626, 385.807],\n",
    "  [191.681, 160.524, 328.447, 226.588, 212.019, 346.096, 265.929, 101.045, 320.217, 271.752, 170.743, 342.604, 326.629, 85.034, 314.759, 318.942, 160.372, 344.401, 358.147, 266.640, 327.170, 371.488, 207.334, 338.767, 471.663, 252.639, 365.186, 442.722, 271.278, 368.363, 389.403, 313.330, 372.265, 274.937, 339.786, 406.064, 320.223, 344.187, 412.805, 312.560, 258.994, 382.265],\n",
    "  [166.774, 168.641, 330.502, 208.390, 220.510, 345.351, 244.483, 133.946, 294.291, 253.966, 194.650, 327.802, 301.852, 257.119, 298.987, 302.023, 206.945, 324.259, 401.830, 97.130, 327.610, 364.824, 166.593, 351.285, 468.172, 252.378, 355.355, 437.363, 269.845, 358.086, 383.700, 310.398, 367.032, 314.186, 287.470, 407.857, 350.679, 279.020, 408.430, 303.837, 254.282, 378.140],\n",
    "  [165.755, 147.246, 337.572, 209.021, 207.636, 355.627, 275.604, 297.471, 319.619, 255.595, 218.171, 333.905, 339.714, 100.383, 296.954, 314.825, 164.222, 336.615, 408.984, 97.502, 327.906, 368.001, 166.381, 353.945, 462.651, 253.479, 356.833, 433.101, 271.616, 363.047, 381.800, 315.620, 372.459, 274.190, 347.671, 419.410, 312.677, 347.831, 418.787, 299.806, 259.923, 384.529],\n",
    "  [219.860, 303.302, 323.447, 229.438, 206.882, 338.874, 228.496, 115.388, 301.317, 245.695, 170.211, 336.157, 321.676, 69.965, 321.228, 302.387, 145.947, 346.734, 399.933, 112.306, 316.691, 358.761, 172.048, 343.629, 448.907, 259.087, 356.186, 418.391, 274.625, 360.953, 363.025, 315.284, 369.271, 257.832, 338.126, 406.155, 294.911, 341.930, 402.589, 291.689, 251.327, 383.947],\n",
    "  [168.428, 161.897, 318.210, 207.404, 212.211, 339.170, 271.107, 92.165, 316.587, 265.984, 166.835, 340.721, 350.053, 72.483, 326.789, 325.403, 152.446, 352.653, 431.603, 115.077, 330.571, 384.536, 177.509, 355.162, 314.796, 288.431, 324.195, 350.494, 285.163, 334.955, 358.617, 320.273, 358.443, 258.676, 334.611, 403.850, 298.014, 342.135, 407.780, 296.686, 255.329, 380.888],\n",
    "])\n",
    "\n",
    "joints = []\n",
    "\n",
    "for i, item in enumerate(arr):\n",
    "  joint = np.reshape(item, (14,3))\n",
    "  joints.append(joint)\n",
    "\n",
    "for i, joint_set in enumerate(joints):\n",
    "  # img = cv2.imread('../images/nyu/depth_1_0000001.png')\n",
    "\n",
    "  #img = np.loadtxt('../images/dataset/frame_1.txt')\n",
    "  img = np.loadtxt(f'../images/dataset/frame_{i}.txt')\n",
    "  img = np.flip(img, 1)\n",
    "  img = cv2.applyColorMap(cv2.convertScaleAbs(img, alpha=0.03), cv2.COLORMAP_JET)\n",
    "\n",
    "  for joint in joint_set: \n",
    "    x, y, z = joint\n",
    "    center_x = math.ceil(x)\n",
    "    center_y = math.ceil(y)\n",
    "    img = cv2.circle(img, center=(center_x, center_y), radius=2, color=(0, 0, 255), thickness=-1)\n",
    "\n",
    "  window = f'frame_{i}.txt'\n",
    "  cv2.namedWindow(window, cv2.WINDOW_NORMAL)\n",
    "  cv2.resizeWindow(window, 640, 480)\n",
    "  cv2.imshow(window, img)\n",
    "  cv2.waitKey(0)\n",
    "  cv2.destroyWindow(window)"
   ]
  },
  {
   "cell_type": "markdown",
   "metadata": {},
   "source": [
    "# Imprimindo tudo de uma vez"
   ]
  },
  {
   "cell_type": "code",
   "execution_count": null,
   "metadata": {},
   "outputs": [],
   "source": [
    "# 544.358 131.686 309.411 501.377 198.443 321.279 304.334 102.546 324.114 351.602 161.139 337.345 389.606 58.998 323.723 381.907 156.874 336.386 405.229 125.974 337.324 381.383 184.125 341.643 189.269 328.624 322.712 233.760 330.297 326.435 321.817 352.712 335.113 463.003 399.038 365.624 463.926 385.543 368.353 404.146 284.184 342.327\n",
    "# 288.919 306.819 302.939 279.857 313.248 335.435 360.619 152.015 286.579 336.071 237.660 313.416 430.273 68.019 305.770 374.256 165.152 318.402 531.072 117.684 307.486 462.728 166.739 325.365 505.205 139.712 343.720 492.612 175.458 343.674 473.637 273.428 342.603 451.260 399.382 372.260 487.159 368.382 374.622 399.277 281.935 356.169\n",
    "# 233.603 277.336 344.669 336.588 286.221 342.641 397.153 302.120 291.095 383.994 234.130 309.489 428.279 90.515 283.261 425.706 171.838 312.090 410.604 103.098 331.497 376.138 176.473 347.868 227.988 283.731 357.892 263.979 293.699 359.176 410.208 284.888 371.630 490.137 390.450 373.142 489.264 368.880 383.506 415.522 287.129 358.119\n",
    "# 526.111 107.652 315.686 485.924 209.239 327.297 411.830 192.373 318.278 434.899 222.574 309.986 327.400 73.525 325.778 376.948 159.666 337.150 303.772 117.516 353.621 341.769 197.861 351.374 246.931 276.872 350.100 287.644 283.896 352.819 403.612 272.565 354.859 492.135 383.320 374.127 465.919 362.371 388.158 406.820 294.443 362.149\n",
    "# 306.072 121.155 331.434 353.014 215.403 345.514 314.764 92.474 330.941 358.288 165.551 343.293 434.048 75.879 295.397 433.488 161.414 327.010 484.046 277.740 281.408 477.801 232.783 311.744 241.279 291.953 346.021 315.728 292.860 340.094 477.311 276.450 337.925 474.553 385.921 382.548 503.480 359.508 380.817 414.384 287.806 364.536\n",
    "# 563.122 120.475 332.568 530.665 181.879 336.708 318.235 108.636 329.871 377.104 156.730 342.497 419.024 54.364 324.081 431.327 148.978 340.707 433.931 91.765 341.459 414.279 183.373 358.162 257.659 297.289 350.997 291.070 310.129 352.552 374.662 348.272 353.146 492.294 379.775 377.688 496.374 375.066 380.028 441.766 273.558 353.272\n",
    "# 524.089 113.142 327.485 526.396 179.054 336.426 410.592 87.840 330.543 421.656 160.550 338.648 410.427 71.899 332.331 440.494 159.718 336.539 436.154 103.630 335.740 410.026 187.853 350.968 293.092 269.163 357.933 327.713 287.653 353.728 409.652 334.063 352.792 501.305 382.286 383.847 520.366 367.827 384.659 466.812 277.215 354.787"
   ]
  },
  {
   "cell_type": "code",
   "execution_count": 28,
   "metadata": {},
   "outputs": [],
   "source": [
    "import cv2\n",
    "import math\n",
    "import numpy as np\n",
    "\n",
    "arr = np.array([\n",
    "  [147.084, 177.480, 345.507, 186.284, 233.123, 359.941, 237.917, 112.133, 337.274, 238.048, 183.462, 358.916, 315.858, 91.886, 344.020, 296.672, 173.691, 360.330, 387.407, 121.559, 344.045, 349.883, 190.100, 360.790, 442.477, 278.589, 360.966, 411.096, 295.258, 365.675, 354.293, 342.267, 374.823, 251.357, 351.934, 412.018, 290.668, 362.145, 414.212, 282.046, 277.626, 385.807],\n",
    "  [191.681, 160.524, 328.447, 226.588, 212.019, 346.096, 265.929, 101.045, 320.217, 271.752, 170.743, 342.604, 326.629, 85.034, 314.759, 318.942, 160.372, 344.401, 358.147, 266.640, 327.170, 371.488, 207.334, 338.767, 471.663, 252.639, 365.186, 442.722, 271.278, 368.363, 389.403, 313.330, 372.265, 274.937, 339.786, 406.064, 320.223, 344.187, 412.805, 312.560, 258.994, 382.265],\n",
    "  [166.774, 168.641, 330.502, 208.390, 220.510, 345.351, 244.483, 133.946, 294.291, 253.966, 194.650, 327.802, 301.852, 257.119, 298.987, 302.023, 206.945, 324.259, 401.830, 97.130, 327.610, 364.824, 166.593, 351.285, 468.172, 252.378, 355.355, 437.363, 269.845, 358.086, 383.700, 310.398, 367.032, 314.186, 287.470, 407.857, 350.679, 279.020, 408.430, 303.837, 254.282, 378.140],\n",
    "  [165.755, 147.246, 337.572, 209.021, 207.636, 355.627, 275.604, 297.471, 319.619, 255.595, 218.171, 333.905, 339.714, 100.383, 296.954, 314.825, 164.222, 336.615, 408.984, 97.502, 327.906, 368.001, 166.381, 353.945, 462.651, 253.479, 356.833, 433.101, 271.616, 363.047, 381.800, 315.620, 372.459, 274.190, 347.671, 419.410, 312.677, 347.831, 418.787, 299.806, 259.923, 384.529],\n",
    "  [219.860, 303.302, 323.447, 229.438, 206.882, 338.874, 228.496, 115.388, 301.317, 245.695, 170.211, 336.157, 321.676, 69.965, 321.228, 302.387, 145.947, 346.734, 399.933, 112.306, 316.691, 358.761, 172.048, 343.629, 448.907, 259.087, 356.186, 418.391, 274.625, 360.953, 363.025, 315.284, 369.271, 257.832, 338.126, 406.155, 294.911, 341.930, 402.589, 291.689, 251.327, 383.947],\n",
    "  [168.428, 161.897, 318.210, 207.404, 212.211, 339.170, 271.107, 92.165, 316.587, 265.984, 166.835, 340.721, 350.053, 72.483, 326.789, 325.403, 152.446, 352.653, 431.603, 115.077, 330.571, 384.536, 177.509, 355.162, 314.796, 288.431, 324.195, 350.494, 285.163, 334.955, 358.617, 320.273, 358.443, 258.676, 334.611, 403.850, 298.014, 342.135, 407.780, 296.686, 255.329, 380.888],\n",
    "])\n",
    "\n",
    "joints = []\n",
    "\n",
    "for i, item in enumerate(arr):\n",
    "  joint = np.reshape(item, (14,3))\n",
    "  joints.append(joint)\n",
    "\n",
    "images_h = None\n",
    "images_v = None\n",
    "image_it = 0\n",
    "\n",
    "for row in range(2):\n",
    "  for column in range(3):\n",
    "    img = np.loadtxt(f'../images/dataset/frame_{image_it}.txt')\n",
    "    img = np.flip(img, 1)\n",
    "    img = cv2.applyColorMap(cv2.convertScaleAbs(img, alpha=0.03), cv2.COLORMAP_TURBO)\n",
    "\n",
    "    joint_set = joints[image_it]\n",
    "    for joint in joint_set: \n",
    "      x, y, z = joint\n",
    "      center_x = math.ceil(x)\n",
    "      center_y = math.ceil(y)\n",
    "      img = cv2.circle(img, center=(center_x, center_y), radius=5, color=(0, 0, 255), thickness=-1)\n",
    "\n",
    "    if images_h is None:\n",
    "      images_h = img\n",
    "    else:\n",
    "      images_h = np.hstack((images_h, img))\n",
    "    \n",
    "    image_it += 1\n",
    "  \n",
    "  if images_v is None:\n",
    "    images_v = images_h.copy()\n",
    "    images_h = None\n",
    "  else:\n",
    "    images_v = np.vstack((images_v, images_h))\n",
    "\n",
    "window = 'Predictions'\n",
    "cv2.namedWindow(window, cv2.WINDOW_NORMAL)\n",
    "cv2.resizeWindow(window, 1920, 960)\n",
    "cv2.imshow(window, images_v)\n",
    "cv2.waitKey(0)\n",
    "cv2.destroyWindow(window)\n",
    "\n",
    "\n",
    "\n",
    "# for i, joint_set in enumerate(joints):\n",
    "#   # img = cv2.imread('../images/nyu/depth_1_0000001.png')\n",
    "\n",
    "#   #img = np.loadtxt('../images/dataset/frame_1.txt')\n",
    "#   img = np.loadtxt(f'../images/dataset/frame_{i}.txt')\n",
    "#   img = np.flip(img, 1)\n",
    "#   img = cv2.applyColorMap(cv2.convertScaleAbs(img, alpha=0.03), cv2.COLORMAP_JET)\n",
    "\n",
    "#   for joint in joint_set: \n",
    "#     x, y, z = joint\n",
    "#     center_x = math.ceil(x)\n",
    "#     center_y = math.ceil(y)\n",
    "#     img = cv2.circle(img, center=(center_x, center_y), radius=2, color=(0, 0, 255), thickness=-1)\n",
    "\n",
    "#   window = f'frame_{i}.txt'\n",
    "#   cv2.namedWindow(window, cv2.WINDOW_NORMAL)\n",
    "#   cv2.resizeWindow(window, 640, 480)\n",
    "#   cv2.imshow(window, img)\n",
    "#   cv2.waitKey(0)\n",
    "#   cv2.destroyWindow(window)\n",
    "\n"
   ]
  },
  {
   "cell_type": "code",
   "execution_count": null,
   "metadata": {},
   "outputs": [],
   "source": [
    "# 503.710 180.635 348.227 452.618 227.705 367.796 328.541 115.418 341.919 309.958 183.952 363.061 334.751 87.226 344.404 352.670 172.995 361.953 468.121 178.232 351.074 366.037 211.300 368.630 184.876 273.492 361.751 219.369 291.661 366.128 302.061 344.741 376.744 379.364 355.082 409.988 390.670 355.111 410.472 364.005 284.196 387.778\n",
    "# 259.309 246.211 344.486 217.058 266.161 365.252 294.857 208.443 326.172 277.969 192.076 343.228 389.649 85.956 319.319 348.788 157.784 343.189 463.543 157.914 325.718 408.404 197.486 347.021 150.058 246.001 365.967 179.977 261.017 368.776 329.034 299.989 373.812 336.636 346.383 405.385 370.650 334.311 400.495 328.879 257.777 385.029\n",
    "# 183.449 245.835 352.178 241.729 265.271 360.014 268.358 134.607 323.143 300.324 202.504 344.414 382.397 157.942 298.200 348.907 194.651 334.104 476.272 166.265 328.500 344.734 241.718 343.985 175.118 250.378 361.768 218.779 259.442 365.484 335.869 286.191 376.730 353.799 336.337 413.640 364.303 314.376 418.648 335.182 274.397 382.001\n",
    "# 445.413 165.270 343.068 364.560 222.726 359.305 250.908 100.475 327.154 278.214 167.863 353.404 312.787 88.139 295.545 326.234 169.618 339.542 384.888 278.587 319.271 377.775 240.129 330.501 162.288 247.994 356.456 195.362 266.021 362.887 285.820 313.196 375.918 357.298 351.885 421.126 372.309 340.509 416.511 348.321 271.609 387.707\n",
    "# 258.598 220.243 344.548 281.832 227.442 354.667 252.040 112.827 317.649 286.398 176.572 346.729 333.944 65.591 319.975 336.355 151.359 347.608 418.918 109.509 300.534 401.337 180.312 336.831 185.270 252.552 354.952 231.735 268.886 356.966 392.088 289.096 368.612 346.109 344.274 411.158 384.464 332.062 406.765 348.573 256.430 386.967\n",
    "# 321.078 296.440 327.499 280.454 276.614 333.486 216.428 113.446 330.823 261.152 184.239 357.009 359.177 79.358 318.199 311.393 150.467 352.797 406.124 108.570 316.070 385.005 170.484 342.191 473.124 169.908 322.553 451.131 195.146 332.824 413.791 269.746 367.681 343.081 346.589 409.011 379.771 328.539 410.283 337.206 260.266 379.171\n"
   ]
  },
  {
   "cell_type": "code",
   "execution_count": null,
   "metadata": {},
   "outputs": [],
   "source": [
    "# 147.084 177.480 345.507 186.284 233.123 359.941 237.917 112.133 337.274 238.048 183.462 358.916 315.858 91.886 344.020 296.672 173.691 360.330 387.407 121.559 344.045 349.883 190.100 360.790 442.477 278.589 360.966 411.096 295.258 365.675 354.293 342.267 374.823 251.357 351.934 412.018 290.668 362.145 414.212 282.046 277.626 385.807\n",
    "# 191.681 160.524 328.447 226.588 212.019 346.096 265.929 101.045 320.217 271.752 170.743 342.604 326.629 85.034 314.759 318.942 160.372 344.401 358.147 266.640 327.170 371.488 207.334 338.767 471.663 252.639 365.186 442.722 271.278 368.363 389.403 313.330 372.265 274.937 339.786 406.064 320.223 344.187 412.805 312.560 258.994 382.265\n",
    "# 166.774 168.641 330.502 208.390 220.510 345.351 244.483 133.946 294.291 253.966 194.650 327.802 301.852 257.119 298.987 302.023 206.945 324.259 401.830 97.130 327.610 364.824 166.593 351.285 468.172 252.378 355.355 437.363 269.845 358.086 383.700 310.398 367.032 314.186 287.470 407.857 350.679 279.020 408.430 303.837 254.282 378.140\n",
    "# 165.755 147.246 337.572 209.021 207.636 355.627 275.604 297.471 319.619 255.595 218.171 333.905 339.714 100.383 296.954 314.825 164.222 336.615 408.984 97.502 327.906 368.001 166.381 353.945 462.651 253.479 356.833 433.101 271.616 363.047 381.800 315.620 372.459 274.190 347.671 419.410 312.677 347.831 418.787 299.806 259.923 384.529\n",
    "# 219.860 303.302 323.447 229.438 206.882 338.874 228.496 115.388 301.317 245.695 170.211 336.157 321.676 69.965 321.228 302.387 145.947 346.734 399.933 112.306 316.691 358.761 172.048 343.629 448.907 259.087 356.186 418.391 274.625 360.953 363.025 315.284 369.271 257.832 338.126 406.155 294.911 341.930 402.589 291.689 251.327 383.947\n",
    "# 168.428 161.897 318.210 207.404 212.211 339.170 271.107 92.165 316.587 265.984 166.835 340.721 350.053 72.483 326.789 325.403 152.446 352.653 431.603 115.077 330.571 384.536 177.509 355.162 314.796 288.431 324.195 350.494 285.163 334.955 358.617 320.273 358.443 258.676 334.611 403.850 298.014 342.135 407.780 296.686 255.329 380.888\n"
   ]
  },
  {
   "cell_type": "code",
   "execution_count": 36,
   "metadata": {},
   "outputs": [
    {
     "data": {
      "text/plain": [
       "array([300, 450])"
      ]
     },
     "execution_count": 36,
     "metadata": {},
     "output_type": "execute_result"
    }
   ],
   "source": [
    "np.array([150, 150]) * np.array([2,3])"
   ]
  },
  {
   "cell_type": "code",
   "execution_count": 47,
   "metadata": {},
   "outputs": [
    {
     "data": {
      "text/plain": [
       "array([102.11871508,   9.52094972])"
      ]
     },
     "execution_count": 47,
     "metadata": {},
     "output_type": "execute_result"
    }
   ],
   "source": [
    "center = np.array([348., 255.000000, 358.])\n",
    "csize = np.array([300., 300., 300.])\n",
    "paras = (588.03, 587.07)\n",
    "\n",
    "((center[:2] - (((csize[:2] / 2.) / center[2]) * paras[:2])) + 0.5)"
   ]
  },
  {
   "cell_type": "code",
   "execution_count": 48,
   "metadata": {},
   "outputs": [
    {
     "data": {
      "text/plain": [
       "37949.0"
      ]
     },
     "execution_count": 48,
     "metadata": {},
     "output_type": "execute_result"
    }
   ],
   "source": [
    "import numpy as np\n",
    "\n",
    "first_frame = np.loadtxt('../images/dataset/frame_0.txt')\n",
    "\n",
    "first_frame.max()"
   ]
  }
 ],
 "metadata": {
  "interpreter": {
   "hash": "b1fa8ce2c218c3d2d42c35c1683365719d3ab896c0c901bef5372e78f91d33df"
  },
  "kernelspec": {
   "display_name": "Python 3.9.0 64-bit (system)",
   "language": "python",
   "name": "python3"
  },
  "language_info": {
   "codemirror_mode": {
    "name": "ipython",
    "version": 3
   },
   "file_extension": ".py",
   "mimetype": "text/x-python",
   "name": "python",
   "nbconvert_exporter": "python",
   "pygments_lexer": "ipython3",
   "version": "3.9.0"
  },
  "orig_nbformat": 4
 },
 "nbformat": 4,
 "nbformat_minor": 2
}
